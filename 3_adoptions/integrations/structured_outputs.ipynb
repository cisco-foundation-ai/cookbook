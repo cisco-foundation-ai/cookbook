{
 "cells": [
  {
   "cell_type": "markdown",
   "id": "6f218bbe",
   "metadata": {},
   "source": [
    "# Structured Outputs with Foundation AI Models\n",
    "\n",
    "Thanks to the power of constrained decoding, Foundation AI's 16k instruct model can now produce structured outputs that adhere to complex [JSON schemas](https://json-schema.org/).\n",
    "\n",
    "Constrained decoding is a technique for guiding the output of large language models. It modifies the probably distribution produced by the model, thereby only allowing tokens that are valid for the desired schema. There are many popular, open-source libraries for constrained decoding, such as [Guidance](https://github.com/guidance-ai/guidance) and [xGrammar](https://github.com/mlc-ai/xgrammar).\n",
    "\n",
    "## How to generate structured outputs\n",
    "\n",
    "Generating structured outputs is simple.\n",
    "\n",
    "Start by creating a [JSON schema](https://json-schema.org/) for your desired output. Then, include the schema in your request, as shown below:\n",
    "```\n",
    "{\n",
    "    \"messages\": [...],\n",
    "    \"response_format\": {\n",
    "        \"type\": \"json_schema\",\n",
    "        \"json_schema\": {\n",
    "            \"name\": \"response_schema\",\n",
    "            \"schema\": <your_schema_here>,\n",
    "        },\n",
    "    }\n",
    "}\n",
    "```"
   ]
  },
  {
   "cell_type": "code",
   "execution_count": 1,
   "id": "fd939811",
   "metadata": {},
   "outputs": [],
   "source": [
    "import os\n",
    "import requests"
   ]
  }
 ],
 "metadata": {
  "kernelspec": {
   "display_name": ".venv",
   "language": "python",
   "name": "python3"
  },
  "language_info": {
   "codemirror_mode": {
    "name": "ipython",
    "version": 3
   },
   "file_extension": ".py",
   "mimetype": "text/x-python",
   "name": "python",
   "nbconvert_exporter": "python",
   "pygments_lexer": "ipython3",
   "version": "3.9.13"
  }
 },
 "nbformat": 4,
 "nbformat_minor": 5
}
