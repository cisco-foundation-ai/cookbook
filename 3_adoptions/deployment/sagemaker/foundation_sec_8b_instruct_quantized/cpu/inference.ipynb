{
 "cells": [
  {
   "cell_type": "markdown",
   "id": "66a0c3ba",
   "metadata": {},
   "source": [
    "# Inference\n",
    "\n",
    "This continues from [the deployment notebook](./deploy.ipynb). <br>\n",
    "Let's perform inference using the model deployed on Amazon SageMaker AI. <br>\n",
    "As a prerequisite, please ensure you have access to SageMaker from the environment where this notebook is being run."
   ]
  },
  {
   "cell_type": "markdown",
   "id": "1d8da4cd",
   "metadata": {},
   "source": [
    "### Prerequisites"
   ]
  },
  {
   "cell_type": "code",
   "execution_count": null,
   "id": "b08b12b0",
   "metadata": {},
   "outputs": [],
   "source": [
    "# Install the required packages:\n",
    "!pip install boto3"
   ]
  },
  {
   "cell_type": "markdown",
   "id": "80904021",
   "metadata": {},
   "source": [
    "### Configuration and Initialization"
   ]
  },
  {
   "cell_type": "code",
   "execution_count": null,
   "id": "8160412f",
   "metadata": {},
   "outputs": [],
   "source": [
    "import boto3\n",
    "import json\n",
    "import os\n",
    "\n",
    "AWS_REGION = \"us-west-2\"\n",
    "os.environ[\"AWS_DEFAULT_REGION\"] = AWS_REGION "
   ]
  },
  {
   "cell_type": "code",
   "execution_count": null,
   "id": "f4ada83e",
   "metadata": {},
   "outputs": [],
   "source": [
    "sagemaker_runtime = boto3.client('sagemaker-runtime')\n",
    "endpoint_name = '' # copy & paste an endpoint created by the deployment notebook\n",
    "\n",
    "# Set the same parameters from quickstart\n",
    "max_tokens = 2048"
   ]
  },
  {
   "cell_type": "markdown",
   "id": "c2420990",
   "metadata": {},
   "source": [
    "### Inference"
   ]
  },
  {
   "cell_type": "code",
   "execution_count": null,
   "id": "3fb330ea",
   "metadata": {},
   "outputs": [],
   "source": [
    "def chat_generation(user_prompt):\n",
    "    messages = [\n",
    "        {\n",
    "            \"role\": \"user\",\n",
    "            \"content\": user_prompt\n",
    "        }\n",
    "    ]\n",
    "    payload = {\n",
    "        \"messages\": messages,\n",
    "        \"temperature\": 0.3,\n",
    "        \"max_tokens\": max_tokens,\n",
    "    }\n",
    "    response = sagemaker_runtime.invoke_endpoint(\n",
    "        EndpointName=endpoint_name,\n",
    "        Body=json.dumps(payload),\n",
    "        ContentType=\"application/json\",\n",
    "    )\n",
    "    body = json.loads(response['Body'].read().decode('utf-8'))\n",
    "    return body[\"choices\"][0][\"message\"][\"content\"]"
   ]
  },
  {
   "cell_type": "code",
   "execution_count": null,
   "id": "103a910d",
   "metadata": {},
   "outputs": [],
   "source": [
    "user_prompt = \"What is cyber security?\"\n",
    "\n",
    "print(chat_generation(user_prompt))"
   ]
  }
 ],
 "metadata": {
  "kernelspec": {
   "display_name": "Python 3 (ipykernel)",
   "language": "python",
   "name": "python3"
  },
  "language_info": {
   "codemirror_mode": {
    "name": "ipython",
    "version": 3
   },
   "file_extension": ".py",
   "mimetype": "text/x-python",
   "name": "python",
   "nbconvert_exporter": "python",
   "pygments_lexer": "ipython3",
   "version": "3.11.10"
  }
 },
 "nbformat": 4,
 "nbformat_minor": 5
}
