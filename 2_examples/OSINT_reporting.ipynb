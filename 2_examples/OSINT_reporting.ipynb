{
 "cells": [
  {
   "cell_type": "markdown",
   "id": "0e9e499b-a8a4-4bcd-8e69-c4226e8104cd",
   "metadata": {},
   "source": [
    "# Use Case Description\n",
    "\n",
    "Using public job postings of engineers as OSINT is a common practice. <br>\n",
    "In this use case, we will analyze a hypothetical DevOps engineer job description to uncover potential exploitation scenarios.\n",
    "\n",
    "## Model used for this use case\n",
    "Reasoning Model is well-suited for this use case because the task is complex and requires deep reasoning. <br>\n",
    "The Reasoning Model is currently in preview. If you don't have access, you can use the instruct model instead."
   ]
  },
  {
   "cell_type": "markdown",
   "id": "575e36fd-090b-4916-a7bc-1cfa7573c76b",
   "metadata": {},
   "source": [
    "## SetUp\n",
    "\n",
    "The setup scripts below are essentially the same as those in the [Quickstart (Reasoning Model)](https://github.com/RobustIntelligence/foundation-ai-cookbook/blob/main/1_quickstarts/Preview_Quickstart_reasoning_model.ipynb)\n",
    "\n",
    "### Notice\n",
    "- The code below assumes that users have access to the models via Hugging Face. If you are using API access instead, please replace the inference code with the API version provided in the Quickstart guide.\n",
    "- This model is currently in preview mode and may receive updates. As a result, outputs can vary even when parameters are configured to ensure reproducibility."
   ]
  },
  {
   "cell_type": "code",
   "execution_count": 1,
   "id": "15989870-5083-42bb-b1e5-4125e452ad04",
   "metadata": {},
   "outputs": [],
   "source": [
    "import os\n",
    "import transformers\n",
    "import torch\n",
    "from IPython.display import display, Markdown\n",
    "\n",
    "HF_TOKEN = os.getenv(\"HF_TOKEN\")\n",
    "\n",
    "def _get_device():\n",
    "    if torch.cuda.is_available():\n",
    "        return \"cuda\"\n",
    "    elif torch.backends.mps.is_available():\n",
    "        return \"mps\"\n",
    "    else:\n",
    "        return \"cpu\"\n",
    "\n",
    "DEVICE = _get_device()"
   ]
  },
  {
   "cell_type": "code",
   "execution_count": 2,
   "id": "83d0f95d-b5bd-42ce-be39-85becb55fb06",
   "metadata": {},
   "outputs": [
    {
     "data": {
      "application/vnd.jupyter.widget-view+json": {
       "model_id": "690eb387ac03447786d8b31675a4e848",
       "version_major": 2,
       "version_minor": 0
      },
      "text/plain": [
       "Loading checkpoint shards:   0%|          | 0/7 [00:00<?, ?it/s]"
      ]
     },
     "metadata": {},
     "output_type": "display_data"
    }
   ],
   "source": [
    "MODEL_ID = \"\" # To be relaced with the final model name\n",
    "\n",
    "from transformers import AutoModelForCausalLM, AutoTokenizer\n",
    "\n",
    "tokenizer = AutoTokenizer.from_pretrained(MODEL_ID, token=HF_TOKEN)\n",
    "model = AutoModelForCausalLM.from_pretrained(\n",
    "    pretrained_model_name_or_path=MODEL_ID,\n",
    "    device_map=\"auto\",\n",
    "    torch_dtype=torch.float32, # this model's tensor_type is float32\n",
    "    token=HF_TOKEN,\n",
    ")"
   ]
  },
  {
   "cell_type": "code",
   "execution_count": 3,
   "id": "ae6accf3-210c-4288-a4ab-a385e4af26ad",
   "metadata": {},
   "outputs": [],
   "source": [
    "generation_args = {\n",
    "    \"max_new_tokens\": 2048,\n",
    "    \"temperature\": None,\n",
    "    \"repetition_penalty\": 1.2,\n",
    "    \"do_sample\": False,\n",
    "    \"use_cache\": True,\n",
    "    \"eos_token_id\": tokenizer.eos_token_id,\n",
    "    \"pad_token_id\": tokenizer.pad_token_id,\n",
    "}"
   ]
  },
  {
   "cell_type": "code",
   "execution_count": 4,
   "id": "ca02e7b7-76e7-44e3-afb0-504e03fe748e",
   "metadata": {},
   "outputs": [],
   "source": [
    "import re\n",
    "\n",
    "def inference(prompt):\n",
    "    messages = [\n",
    "        {\"role\": \"user\", \"content\": prompt},\n",
    "    ]\n",
    "    inputs = tokenizer.apply_chat_template(\n",
    "        messages, tokenize=False, add_generation_prompt=True\n",
    "    )\n",
    "\n",
    "    # The old model version didn’t include the <think> token in the chat template.\n",
    "    think_token = \"<think>\\n\"\n",
    "    if not inputs.endswith(think_token):\n",
    "        inputs += think_token\n",
    "    \n",
    "    inputs = tokenizer(inputs, return_tensors=\"pt\").to(DEVICE)\n",
    "    with torch.no_grad():\n",
    "        outputs = model.generate(\n",
    "            **inputs,\n",
    "            **generation_args,\n",
    "        )\n",
    "    response = tokenizer.decode(outputs[0], skip_special_tokens = False)\n",
    "\n",
    "    # extract the thinking part only\n",
    "    match = re.search(r\"<think>(.*?)<\\|end_of_text\\|>\", response, re.DOTALL)\n",
    "    \n",
    "    return match.group(1).strip()"
   ]
  },
  {
   "cell_type": "markdown",
   "id": "06f5e95e-3a10-454b-8163-8bec830327a9",
   "metadata": {},
   "source": [
    "## Generate a mock job description as OSINT to be analyzed\n",
    "\n",
    "Let’s first create a mock job description, which can also be generated using our reasoning model. <br>\n",
    "If you have a specific job description in mind or want to use a real one found online, replace the ```job_description``` variable with your data."
   ]
  },
  {
   "cell_type": "code",
   "execution_count": 5,
   "id": "c2e408b4-8794-4e73-9a67-bfb15453ba81",
   "metadata": {},
   "outputs": [
    {
     "data": {
      "text/markdown": [
       "# Senior DevOps Engineer - Security Products Team\n",
       "\n",
       "## Job Overview\n",
       "\n",
       "As a Senior DevOps Engineer on the Security Products team at Cisco in San Jose, you will play a critical role in driving the development and deployment of cutting-edge security solutions. You'll collaborate closely with cross-functional teams to automate processes, improve infrastructure efficiency, and ensure high-quality delivery of our products. This position requires strong leadership skills, deep technical expertise, and a passion for innovation.\n",
       "\n",
       "## Key Responsibilities\n",
       "\n",
       "- **Design and Implement Infrastructure Solutions:** Develop scalable and secure infrastructure architectures using tools like Kubernetes, Docker, Terraform, and Ansible. Optimize CI/CD pipelines to enhance automation and reduce deployment times.\n",
       "  \n",
       "- **Collaborate Across Teams:** Work seamlessly with developers, security engineers, product managers, and other stakeholders to define and implement best practices that support agile software development life cycles.\n",
       "  \n",
       "- **Monitor and Improve Performance:** Utilize monitoring tools (e.g., Prometheus, Grafana) to track system performance and proactively identify areas for improvement. Drive initiatives to increase operational efficiency and reliability.\n",
       "  \n",
       "- **Security Hardening & Compliance:** Ensure all systems adhere to industry standards and compliance requirements such as NIST, SOC, etc. Contribute to creating and maintaining security policies within DevOps frameworks.\n",
       "  \n",
       "- **Incident Management & Troubleshooting:** Lead incident response efforts when necessary, working with teams to diagnose issues, apply fixes, and document lessons learned. Continuously refine troubleshooting methodologies.\n",
       "  \n",
       "- **Automation Strategy Development:** Define and evolve the automation strategy for the team, identifying opportunities to leverage AI/ML where applicable to further streamline operations.\n",
       "  \n",
       "- **Mentorship & Leadership:** Mentor junior DevOps Engineers, sharing your knowledge and experience. Lead by example, fostering a culture of collaboration, continuous learning, and excellence.\n",
       "  \n",
       "- **Stay Updated on Industry Trends:** Keep abreast of emerging technologies, trends, and best practices in DevOps and cloud-native applications. Influence the adoption of new tools and methods as appropriate.\n",
       "\n",
       "## Qualifications\n",
       "\n",
       "**Required:**\n",
       "\n",
       "- Bachelor’s degree in Computer Science, Information Technology, or related field; or equivalent practical experience.\n",
       "- 7+ years of professional experience in DevOps, Systems Engineering, or relevant field.\n",
       "- Strong understanding of containerization (Docker), orchestration (Kubernetes), and cloud platforms (AWS/GCP/Azure).\n",
       "- Proficiency in scripting languages (Python, Bash) and configuration management tools (Ansible, Puppet, Chef).\n",
       "- Experience with version control systems (Git), CI/CD tools (Jenkins, CircleCI, GitLab CI), and automated testing frameworks.\n",
       "- Deep knowledge of network security principles and their application in infrastructure design.\n",
       "- Excellent problem-solving abilities and attention to detail.\n",
       "- Ability to work effectively in a fast-paced, dynamic environment.\n",
       "- Effective communication and interpersonal skills; capable of leading meetings and presenting ideas to diverse audiences.\n",
       "\n",
       "**Preferred:**\n",
       "\n",
       "- Certification in DevOps, Cloud, or Cybersecurity (e.g., AWS Certified DevOps Professional, CCNA, CNCF certifications)\n",
       "- Experience with SRE principles and tooling (like Stackdriver, ELK stack)\n",
       "- Familiarity with Agile and Scrum methodologies\n",
       "- Previous mentorship or leadership roles within engineering teams\n",
       "- Knowledge of SIEM systems, IDS/IPS, and endpoint protection\n",
       "\n",
       "## Physical Requirements\n",
       "\n",
       "This position is based in San Jose, CA. The selected candidate must be willing to work onsite according to Cisco's needs.\n",
       "\n",
       "## Application Process\n",
       "\n",
       "To apply, please submit your resume along with a cover letter detailing why you're excited about this opportunity and how your experiences align with the responsibilities outlined above. Include specific examples of projects you've led or contributed to that demonstrate your qualifications.\n",
       "\n",
       "---\n",
       "\n",
       "*Note:* Cisco is an equal-opportunity employer committed to diversity and inclusion. We welcome applicants from all backgrounds and do not discriminate based on race, color, religion, sex (including pregnancy, transgender status, gender identity, sexual orientation), national origin, family medical history, genetic information, disability, age, veteran status, political affiliation, or any other basis protected under law."
      ],
      "text/plain": [
       "<IPython.core.display.Markdown object>"
      ]
     },
     "metadata": {},
     "output_type": "display_data"
    }
   ],
   "source": [
    "prompt = '''You are a recruiter at Cisco, hiring a Senior DevOps Engineer for the Security Products team in San Jose. \n",
    "Write a comprehensive and detailed job description for this role in Markdown format.'''\n",
    "\n",
    "job_description = inference(prompt)\n",
    "display(Markdown(job_description))"
   ]
  },
  {
   "cell_type": "markdown",
   "id": "373e0bd6-a3c4-4482-aa49-aee45f5bc462",
   "metadata": {},
   "source": [
    "### Analyze the job description to find potential exploitation scenarios\n",
    "\n",
    "Let’s have the model analyze the job description and generate a report. <br>\n",
    "It’s recommended to provide the model with a clear format to follow for consistency and clarity."
   ]
  },
  {
   "cell_type": "code",
   "execution_count": 6,
   "id": "b4a602cc-7507-4e5c-bed1-c169248e29f1",
   "metadata": {},
   "outputs": [],
   "source": [
    "prompt = f'''You are a cybersecurity expert outside Cisco and wants to run some tests against their products only using public information.\n",
    "Based on your knowledge and experience of OSINT, analyze the job description below and write a report of potential exploitation for penetration tests in the following formats.\n",
    "\n",
    "##Summary\n",
    "##Technical Findings\n",
    "##Potential exploitations\n",
    "\n",
    "\n",
    "<Job Description>\n",
    "{job_description}\n",
    "'''"
   ]
  },
  {
   "cell_type": "code",
   "execution_count": 7,
   "id": "26a981c5-e389-4658-8dd4-f81294095b2b",
   "metadata": {},
   "outputs": [
    {
     "data": {
      "text/markdown": [
       "Report on Potential Exploitation Opportunities Based on Job Description – Senior DevOps Engineer, Security Products Team, Cisco\n",
       "\n",
       "### Summary\n",
       "The provided job description outlines key responsibilities and qualifications required for a Senior DevOps Engineer on Cisco's Security Products team. While the primary focus is on designing and implementing secure infrastructures, automating processes, and ensuring compliance with standards like NIST/SOC, there exist potential vulnerabilities and attack vectors that could be exploited during penetration tests. These findings aim to inform red-team exercises, emphasizing areas where attackers might target given the described role and technology stack.\n",
       "\n",
       "### Technical Findings\n",
       "\n",
       "1. **Containerization and Orchestration (Docker/Kubernetes):**\n",
       "   - **Vulnerability**: Misconfigured containers or orchestrators can lead to privilege escalation. For instance, default configurations may allow unnecessary privileges, or images pulled from untrusted sources might contain backdoors.\n",
       "   - **Mitigation**: Ensuring proper hardening, least privilege access, and scanning dependencies regularly.\n",
       "\n",
       "2. **Cloud Platforms (AWS/GCP/Azure):**\n",
       "   - **Vulnerability**: Inadequate IAM policies or misconfigured storage buckets can expose sensitive data. Also, unused services or resources might remain active, increasing attack surfaces.\n",
       "   - **Mitigation**: Regular audits, principle of least privilege, and removing stale resources.\n",
       "\n",
       "3. **CI/CD Pipelines (Jenkins/CircleCI/GitLab CI):**\n",
       "   - **Vulnerability**: Weaknesses in pipeline scripts, insecure artifact repositories, or lack of secrets management can lead to code injection or unauthorized deployments.\n",
       "   - **Mitigation**: Secure coding practices, secret vault integration, and static analysis tools.\n",
       "\n",
       "4. **Monitoring Tools (Prometheus/Grafana):**\n",
       "   - **Vulnerability**: If these tools aren't properly secured, they could become entry points for attacks. E.g., exploiting dashboards to inject malicious queries or accessing underlying databases without authentication.\n",
       "   - **Mitigation**: Proper access controls, encryption of data at rest and transit, and regular updates.\n",
       "\n",
       "5. **Compliance and Policy Enforcement:**\n",
       "   - **Vulnerability**: Gaps in adherence to NIST/SOC guidelines, especially if automated checks aren’t robust enough. Manual processes here could introduce human error.\n",
       "   - **Mitigation**: Comprehensive policy-as-code approaches (IaC + CIS benchmarks) integrated into CI/CD, coupled with continuous auditing.\n",
       "\n",
       "6. **Automated Incident Response and ML-driven Automation:**\n",
       "   - **Vulnerability**: Over-reliance on AI/ML models without considering adversarial techniques could lead to false negatives. Additionally, poorly designed IR playbooks might leave room for evasion.\n",
       "   - **Mitigation**: Testing AI components with known adversarial inputs, ensuring diversified detection mechanisms, and having manual review checkpoints.\n",
       "\n",
       "### Potential Exploitations\n",
       "\n",
       "1. **Supply Chain Attack via Compromised Docker Images or Dependencies:**\n",
       "   - Targeting publicly available Docker hubs, replacing legitimate images with tampered ones containing malware. Given the mention of pulling images from external registries, verifying integrity through digital signatures or Notary would be crucial.\n",
       "\n",
       "2. **Privilege Escalation in Kubernetes Clusters:**\n",
       "   - Abusing RBAC permissions, pod security contexts, or node-level access. Since the engineer works with Kubernetes, ensuring strict Role-Based Access Control (RBAC) and Pod Security Policies (PSPs) is essential.\n",
       "\n",
       "3. **Misconfiguration Attacks in IaaS Services:**\n",
       "   - Identifying exposed storage buckets, overly permissive IAM roles, or leftover test environments. Penetration testers should look for signs of inadequate compartmentalization and segmentation.\n",
       "\n",
       "4. **Code Injection in CI/CD Pipelines:**\n",
       "   - Manipulating build artifacts or injecting malicious steps into Jenkinsfiles or similar config files. Inspecting the source code management and build process for weaknesses in validation and sanitization.\n",
       "\n",
       "5. **Data Exfiltration via Monitoring Tool Dashboards:**\n",
       "   - Crafting SQLi or XSS payloads in Grafana panels to extract database contents. Alternatively, abusing API keys stored in configs or environment variables accessible through logs.\n",
       "\n",
       "6. **Bypassing Security Controls via Adversarial Machine Learning:**\n",
       "   - Developing scenarios where ML-based anomaly detectors are tricked into ignoring actual threats. Testing the model's resilience against poisoning or evasion techniques.\n",
       "\n",
       "In conducting penetration tests aligned with this job description, it's vital to stay updated on the latest CVEs affecting mentioned technologies and simulate real-world attacks. Collaboration with blue teams to address found vulnerabilities ensures that Cisco's Security Products team enhances its defenses accordingly."
      ],
      "text/plain": [
       "<IPython.core.display.Markdown object>"
      ]
     },
     "metadata": {},
     "output_type": "display_data"
    }
   ],
   "source": [
    "response = inference(prompt)\n",
    "display(Markdown(response))"
   ]
  }
 ],
 "metadata": {
  "kernelspec": {
   "display_name": "Python 3 (ipykernel)",
   "language": "python",
   "name": "python3"
  },
  "language_info": {
   "codemirror_mode": {
    "name": "ipython",
    "version": 3
   },
   "file_extension": ".py",
   "mimetype": "text/x-python",
   "name": "python",
   "nbconvert_exporter": "python",
   "pygments_lexer": "ipython3",
   "version": "3.10.12"
  }
 },
 "nbformat": 4,
 "nbformat_minor": 5
}
