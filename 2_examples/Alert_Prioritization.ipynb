{
 "cells": [
  {
   "cell_type": "markdown",
   "metadata": {
    "id": "AI5ozM2h2Nva"
   },
   "source": [
    "# Use Case Description\n",
    "Automating the prioritization of critical alerts from a large volume of security alerts is essential because it enables security teams to focus on the most urgent and impactful threats quickly. Without automation, manually sorting through numerous alerts can lead to delays, missed critical incidents, and inefficient use of resources. Automation using LLMs improves response times, reduces alert fatigue, and ensures that critical vulnerabilities are addressed promptly, enhancing overall security posture and operational efficiency.\n",
    "\n",
    "\n",
    "## Model used for this use case\n",
    "Both Instruct Model and Reasoning Model would be suitable for this task. In this example, we used Reasoning Model. <br>\n",
    "The Reasoning Model is currently in preview. If you don't have access, you can use the instruct model instead."
   ]
  },
  {
   "cell_type": "markdown",
   "metadata": {},
   "source": [
    "## SetUp\n",
    "\n",
    "The setup scripts below are essentially the same as those in the [Quickstart (Reasoning Model)](https://github.com/RobustIntelligence/foundation-ai-cookbook/blob/main/1_quickstarts/Preview_Quickstart_reasoning_model.ipynb)\n",
    "\n",
    "### Notice\n",
    "- The code below assumes that users have access to the models via Hugging Face. If you are using API access instead, please replace the inference code with the API version provided in the Quickstart guide.\n",
    "- This model is currently in preview mode and may receive updates. As a result, outputs can vary even when parameters are configured to ensure reproducibility."
   ]
  },
  {
   "cell_type": "code",
   "execution_count": 1,
   "metadata": {
    "id": "BPloud0h2LI9"
   },
   "outputs": [],
   "source": [
    "import os\n",
    "import transformers\n",
    "import torch\n",
    "from IPython.display import display, Markdown\n",
    "\n",
    "HF_TOKEN = os.getenv(\"HF_TOKEN\")\n",
    "\n",
    "def _get_device():\n",
    "    if torch.cuda.is_available():\n",
    "        return \"cuda\"\n",
    "    elif torch.backends.mps.is_available():\n",
    "        return \"mps\"\n",
    "    else:\n",
    "        return \"cpu\"\n",
    "\n",
    "DEVICE = _get_device()"
   ]
  },
  {
   "cell_type": "code",
   "execution_count": 2,
   "metadata": {
    "id": "u5pjZGi32FsI"
   },
   "outputs": [
    {
     "data": {
      "application/vnd.jupyter.widget-view+json": {
       "model_id": "594d3f524baa4eec8160310a702c1dc8",
       "version_major": 2,
       "version_minor": 0
      },
      "text/plain": [
       "Loading checkpoint shards:   0%|          | 0/7 [00:00<?, ?it/s]"
      ]
     },
     "metadata": {},
     "output_type": "display_data"
    }
   ],
   "source": [
    "MODEL_ID = \"\" # To be relaced with the final model name\n",
    "\n",
    "from transformers import AutoModelForCausalLM, AutoTokenizer\n",
    "\n",
    "tokenizer = AutoTokenizer.from_pretrained(MODEL_ID, token=HF_TOKEN)\n",
    "model = AutoModelForCausalLM.from_pretrained(\n",
    "    pretrained_model_name_or_path=MODEL_ID,\n",
    "    device_map=\"auto\",\n",
    "    torch_dtype=torch.float32, # this model's tensor_type is float32\n",
    "    token=HF_TOKEN,\n",
    ")"
   ]
  },
  {
   "cell_type": "code",
   "execution_count": 3,
   "metadata": {},
   "outputs": [],
   "source": [
    "generation_args = {\n",
    "    \"max_new_tokens\": 1024,\n",
    "    \"temperature\": None,\n",
    "    \"repetition_penalty\": 1.2,\n",
    "    \"do_sample\": False,\n",
    "    \"use_cache\": True,\n",
    "    \"eos_token_id\": tokenizer.eos_token_id,\n",
    "    \"pad_token_id\": tokenizer.pad_token_id,\n",
    "}"
   ]
  },
  {
   "cell_type": "code",
   "execution_count": 4,
   "metadata": {},
   "outputs": [],
   "source": [
    "import re\n",
    "\n",
    "def inference(prompt):\n",
    "    messages = [\n",
    "        {\"role\": \"user\", \"content\": prompt},\n",
    "    ]\n",
    "    inputs = tokenizer.apply_chat_template(\n",
    "        messages, tokenize=False, add_generation_prompt=True\n",
    "    )\n",
    "\n",
    "    # The old model version didn’t include the <think> token in the chat template.\n",
    "    think_token = \"<think>\\n\"\n",
    "    if not inputs.endswith(think_token):\n",
    "        inputs += think_token\n",
    "    \n",
    "    inputs = tokenizer(inputs, return_tensors=\"pt\").to(DEVICE)\n",
    "    with torch.no_grad():\n",
    "        outputs = model.generate(\n",
    "            **inputs,\n",
    "            **generation_args,\n",
    "        )\n",
    "    response = tokenizer.decode(outputs[0], skip_special_tokens = False)\n",
    "\n",
    "    # extract the thinking part only\n",
    "    match = re.search(r\"<think>(.*?)<\\|end_of_text\\|>\", response, re.DOTALL)\n",
    "    \n",
    "    return match.group(1).strip()"
   ]
  },
  {
   "cell_type": "markdown",
   "metadata": {
    "id": "-2XV1flWD-qM"
   },
   "source": [
    "## Alerts analysis"
   ]
  },
  {
   "cell_type": "markdown",
   "metadata": {
    "id": "BY5Wyux1EhVQ"
   },
   "source": [
    "Here’s several mock security alerts to be analyzed"
   ]
  },
  {
   "cell_type": "code",
   "execution_count": 5,
   "metadata": {
    "id": "Obe30-VYESs6"
   },
   "outputs": [],
   "source": [
    "alerts = \"\"\"\n",
    "{\n",
    "\"alert_uuid\": \"3a4bd7e4-f8a2-4b7e-9d3b-7e2fa3f98b6c\",\n",
    "\"timestamp\": \"2025-07-15T10:55:00Z\",\n",
    "\"user\": \"security_admin\",\n",
    "\"source_ip\": \"198.51.100.33\",\n",
    "\"message\": \"The host at 198.51.100.33 has been permanently added to the ssh allowed list.\",\n",
    "\"code\": \"SEC3007\"\n",
    "},\n",
    "{\n",
    "\"alert_uuid\": \"a3f9d2b7-4c1e-4f8a-9d3b-7e2f1a6c8b9d\",\n",
    "\"timestamp\": \"2025-07-15T09:45:12Z\",\n",
    "\"user\": \"sysadmin\",\n",
    "\"source_ip\": \"192.168.1.10\",\n",
    "\"destination_ip\": \"10.0.0.5\",\n",
    "\"message\": \"Log Error: Push error for subscription logs_sub_01: Failed to connect to 10.0.0.5: Connection timed out\",\n",
    "\"code\": \"LOG1001\"\n",
    "},\n",
    "{\n",
    "\"alert_uuid\": \"b9d3a4b7-e2f1-4c8b-9d3b-7e2fa3f98b6c\",\n",
    "\"timestamp\": \"2025-07-15T10:20:45Z\",\n",
    "\"user\": \"sysadmin\",\n",
    "\"source_ip\": \"192.168.1.10\",\n",
    "\"message\": \"Log Error: Subscription logs_sub_02: Log partition is full.\",\n",
    "\"code\": \"LOG1002\"\n",
    "},\n",
    "{\n",
    "\"alert_uuid\": \"d7e4f8a2-9b3c-4f1e-8a7d-2b6c9f1e3a4b\",\n",
    "\"timestamp\": \"2025-07-15T10:05:33Z\",\n",
    "\"user\": \"automation_bot\",\n",
    "\"source_ip\": \"192.168.1.20\",\n",
    "\"message\": \"Startup script backup_script.sh exited with error: Disk quota exceeded. System services failed to start, causing immediate operational outage.\",\n",
    "\"code\": \"SYS2002\"\n",
    "},\n",
    "{\n",
    "\"alert_uuid\": \"4c1e9d3b-7e2f-4f8a-9d3b-7e2fa3f98b6c\",\n",
    "\"timestamp\": \"2025-07-15T10:45:55Z\",\n",
    "\"user\": \"system\",\n",
    "\"source_ip\": \"127.0.0.1\",\n",
    "\"message\": \"Dependency cycle detected: processA -> processB -> processA.\",\n",
    "\"code\": \"SYS2010\"\n",
    "},\n",
    "{\n",
    "\"alert_uuid\": \"f1a6c8b9-d2b7-4c1e-9d3b-7e2fa3f98b6c\",\n",
    "\"timestamp\": \"2025-07-15T10:15:00Z\",\n",
    "\"user\": \"unknown\",\n",
    "\"source_ip\": \"203.0.113.45\",\n",
    "\"message\": \"The host at 203.0.113.45 has been added to the blocked list because of an SSH DOS attack.\",\n",
    "\"code\": \"SEC3003\"\n",
    "},\n",
    "{\n",
    "\"alert_uuid\": \"e2f1a6c8-b9d3-4c1e-9d3b-7e2fa3f98b6c\",\n",
    "\"timestamp\": \"2025-07-15T10:35:00Z\",\n",
    "\"user\": \"jdoe\",\n",
    "\"source_ip\": \"198.51.100.22\",\n",
    "\"message\": \"Account locked due to 5 failed login attempts. Last login attempt from 198.51.100.22.\",\n",
    "\"code\": \"SEC3006\"\n",
    "},\n",
    "{\n",
    "\"alert_uuid\": \"9d3b7e2f-a3f9-4c1e-8b6c-7e2fa3f98b6c\",\n",
    "\"timestamp\": \"2025-07-15T10:40:20Z\",\n",
    "\"user\": \"sysadmin\",\n",
    "\"source_ip\": \"192.168.1.10\",\n",
    "\"destination_ip\": \"10.0.0.6\",\n",
    "\"message\": \"Subscription logs_sub_03: Timed out after 30 seconds sending data to syslog server syslog01 (10.0.0.6).\",\n",
    "\"code\": \"LOG1003\"\n",
    "},\n",
    "{\n",
    "\"alert_uuid\": \"7e2fa3f9-8b6c-4c1e-9d3b-7e2fa3f98b6c\",\n",
    "\"timestamp\": \"2025-07-15T10:50:10Z\",\n",
    "\"user\": \"reporting_service\",\n",
    "\"source_ip\": \"192.168.1.40\",\n",
    "\"message\": \"A failure occurred while building periodic report ‘Monthly_Security_Audit’.\",\n",
    "\"code\": \"REP5001\"\n",
    "},\n",
    "{\n",
    "\"alert_uuid\": \"c8b9d3a4-b7e2-4f1e-9d3b-7e2fa3f98b6c\",\n",
    "\"timestamp\": \"2025-07-15T10:30:12Z\",\n",
    "\"user\": \"app_service\",\n",
    "\"source_ip\": \"192.168.1.30\",\n",
    "\"message\": \"An application fault occurred: segmentation fault in module auth_handler.\",\n",
    "\"code\": \"APP4005\"\n",
    "}\n",
    "\"\"\""
   ]
  },
  {
   "cell_type": "code",
   "execution_count": 6,
   "metadata": {},
   "outputs": [],
   "source": [
    "def make_prompt(alerts):\n",
    "   return f\"\"\"You are a security expert in charge of analyzing bunch of alerts and prioritizing critical ones.\n",
    "    \n",
    "    Go over the alerts given, and prioritize which ones are critical\n",
    "    \n",
    "    ## ALERTS\n",
    "    {alerts}\n",
    "    \n",
    "    Respond with:\n",
    "    - Which ones are critical?\n",
    "    - Why are they crtical?\n",
    "    - What should we do to address the alerts?\n",
    "\n",
    "    \"\"\""
   ]
  },
  {
   "cell_type": "code",
   "execution_count": 7,
   "metadata": {
    "id": "7q9yZevyEi8b"
   },
   "outputs": [
    {
     "data": {
      "text/markdown": [
       "Critical Alerts:\n",
       "\n",
       "1. **Alert UUID:** d7e4f8a2-9b3c-4f1e-8a7d-2b6c9f1e3a4b  \n",
       "   **Code:** SYS2002  \n",
       "   **Message:** Startup script `backup_script.sh` exited with error: Disk quota exceeded. System services failed to start, causing immediate operational outage.\n",
       "\n",
       "   *Why Critical:* This alert indicates a severe issue where system services couldn't start due to disk quotas being reached. Such failures can lead to downtime, loss of critical data, or inability to perform backups, leading to significant business disruptions. Immediate attention is required to resolve this and prevent further issues like data loss or corruption.\n",
       "\n",
       "   *Action:* Check storage usage across systems; clear unnecessary files, increase quotas if possible, investigate root cause (like rogue processes consuming space), restore service functionality immediately.\n",
       "\n",
       "2. **Alert UUID:** f1a6c8b9-d2b7-4c1e-9d3b-7e2fa3f98b6c  \n",
       "   **Code:** SEC3003  \n",
       "   **Message:** The host at 203.0.113.45 has been added to the blocked list because of an SSH DOS attack.\n",
       "\n",
       "   *Why Critical:* A Denial-of-Service (DoS) attack on SSH could render the system inaccessible to legitimate users, disrupting operations and potentially leading to data breaches if attackers use it as a smokescreen. Continuous monitoring and swift action are needed to mitigate such attacks and ensure availability.\n",
       "\n",
       "   *Action:* Investigate source IP's activity, block it temporarily, analyze traffic patterns, implement rate limiting, consider increasing logging granularity, coordinate with network/security teams for deeper analysis and mitigation strategies.\n",
       "\n",
       "Other Important but Not Critically Urgent Alerts:\n",
       "\n",
       "3. **Alert UUID:** b9d3a4b7-e2f1-4c8b-9d3b-7e2fa3f98b6c  \n",
       "   **Code:** LOG1002  \n",
       "   **Message:** Log Error: Subscription logs_sub_02: Log partition is full.\n",
       "\n",
       "   *Priority:* High  \n",
       "   *Why:* Filling up log partitions can hinder forensic investigations and compliance auditing. While not directly impacting uptime, it's crucial to avoid losing important logs.  \n",
       "\n",
       "   *Action:* Increase log partition size, archive old logs, configure better retention policies, monitor regularly for similar incidents.\n",
       "\n",
       "4. **Alert UUID:** 4c1e9d3b-7e2f-4f8a-9d3b-7e2fa3f98b6c  \n",
       "   **Code:** SYS2010  \n",
       "   **Message:** Dependency cycle detected: processA -> processB -> processA\n",
       "\n",
       "   *Priority:* Medium-High  \n",
       "   *Why:* Circular dependencies can lead to system instability, crashes, or resource leaks. If left unaddressed, might result in service degradation or complete stoppage.  \n",
       "\n",
       "   *Action:* Analyze startup scripts, configuration files, or running processes for circular references. Fix configurations and restart affected services.\n",
       "\n",
       "Non-Critical Alerts:\n",
       "\n",
       "Remaining alerts indicate various issues that need addressing but don’t pose immediate threats to system integrity or availability. They include temporary connection timeouts, account lockouts (which have built-in protections against brute force), and reporting errors. These should be addressed within regular maintenance cycles unless part of ongoing incident response efforts.\n",
       "\n",
       "*Note:* Prioritization may vary based on specific environment, SLAs, and existing controls. Always cross-check with your organization’s incident classification guidelines and playbooks."
      ],
      "text/plain": [
       "<IPython.core.display.Markdown object>"
      ]
     },
     "metadata": {},
     "output_type": "display_data"
    }
   ],
   "source": [
    "response = inference(make_prompt(alerts))\n",
    "display(Markdown(response))"
   ]
  }
 ],
 "metadata": {
  "colab": {
   "provenance": []
  },
  "kernelspec": {
   "display_name": "Python 3 (ipykernel)",
   "language": "python",
   "name": "python3"
  },
  "language_info": {
   "codemirror_mode": {
    "name": "ipython",
    "version": 3
   },
   "file_extension": ".py",
   "mimetype": "text/x-python",
   "name": "python",
   "nbconvert_exporter": "python",
   "pygments_lexer": "ipython3",
   "version": "3.10.12"
  }
 },
 "nbformat": 4,
 "nbformat_minor": 4
}
